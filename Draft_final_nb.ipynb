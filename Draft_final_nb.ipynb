{
 "cells": [
  {
   "cell_type": "markdown",
   "metadata": {},
   "source": [
    "# Looking for the invisible: Searching for Dark Matter with ATLAS\n",
    "\n",
    "## The ATLAS experiment\n",
    "- Quick overview of the ATLAS experiment at CERN\n",
    "- links to other resources\n",
    "The ATLAS experiment is a collaboration between many people in many fields across the world to maintain the operation af the ATLAS detector and analyse the data it records to try and find new particles (like we are going to be doing!). \n",
    "(picture of detector here? Maybe an image representing the global reach of ATLAS? - something like a more exciting version of the list of collaborating institutions found at the end of papers... maybe a quiz on how many countries collaborate?) link to interactive 3D model on opendata website?)\n",
    "\n",
    "The ATLAS detector itself is a general-purpose particle detector used to detect what comes out of the collisions that happen in the Large Hadron Collider (LHC). It is a massive 46 metres long and 25 metres in diameter (some size comparison here)!\n",
    "\n",
    "(links to more about the detector, e.g. the website, videos, the interactive model on open data site...)\n",
    "\n",
    "## Dark Matter\n",
    "- Describe the theory of DM and describe its origin\n",
    "Dark Matter is a hypothesised type of matter that has not been discovered yet as it is not directly visible. So why has it been hypothesised? During various observations, astrophysicists have found that what they see in space doesn't quite make sense - there isn't enough matter in space to make what we see happen!\n",
    "\n",
    "Let's look at one example quickly - gravitational lensing. Gravitational lensing is when light gets bent around objects in space due to gravity. This let's you see behind objects in space! (photo e xplaining gravitational lensing)\n",
    "\n",
    "We see that mass has an affect on how light travels, so how does this relate do dark matter? Astrophysicists have seen objects that have been gravitationally lensed 'too much' - with the amount of mass that they can observe, they see objects that should not be visible! This then implies that there must be some more mass there that we can't see - dark matter!\n",
    "\n",
    "(possibly a video on DM with more explanation, can it be embedded in a jupyter notebook?)\n",
    "\n",
    "(something about how common DM is)\n",
    "\n",
    "## Dark Matter at ATLAS\n",
    "- Describe how dark matter is created at CERN\n",
    "- how is it detected \n",
    "So if dark matter is so common across the universe and its effects are clearly observed by astrophysicists, it should be easy to find at the ATLAS detector right?\n",
    "\n",
    "Unfortunately not. Because we can't directly observe dark matter, there are many hypotheses of what it actually is. The hypothesis (or model) that we are searching for is called a Weakly Interacting Massive Particle (WIMP). (diagram here?)\n",
    "\n",
    "As you can guess from the name, this type of dark matter particle is hard to detect because it doesn't really interact with other things. For example WIMPs don't interact with electromagnetic radiation (which inludes light), which is why we can't see them!\n",
    "\n",
    "So what can we do to detect dark matter? Well if we can't see the dark matter around us, let's make the dark matter ourselves and see what happens!\n",
    "\n",
    "At the LHC we collide particles together and look at the particle that result from these collisions. What we can do is collide protons (which are made up of smaller particles called quarks), and look to see if any of those collisions produce dark matter particles! Below we'll specifically look at the hypothesised process that creates dark matter.\n",
    "\n",
    "## What We Are Looking For\n",
    "- Describe the event that we are looking for\n",
    "- how is this detected at ATLAS (how is dark matter even detected?)\n",
    "(Some particles can be directly detected as they pass through the detector, others decay too quickly to be seen by the detector. However, these particles)\n",
    "\n",
    "## How Do We Find Dark Matter?\n",
    "- how is the data from the detector used to find DM\n",
    "    - explain use of data and signal+bg mc (what is mc?)\n",
    "    - explain how we aim to reduce to S/B ratio in the mc\n",
    "    - explain how data is then used to check for what we are searching for\n",
    "    \n",
    "### How to reduce S/B ratio?\n",
    "- introduce what a cut is\n",
    "- why is a cut useful (link to histogram analyser)\n",
    "- what cuts will we use?\n",
    "    - list cuts"
   ]
  },
  {
   "cell_type": "code",
   "execution_count": null,
   "metadata": {},
   "outputs": [],
   "source": [
    "#Does the above make up a concise enough list of topics to go through to introduce students from no prior knowledge?\n",
    "#How to make explanations more interactive (videos, quizzes, examples, etc...)\n",
    "#check videos on ATLAS youtube\n",
    "#SM description - TED video\n",
    "#ATLAS website resources"
   ]
  },
  {
   "cell_type": "markdown",
   "metadata": {},
   "source": [
    "Title: Looking for the invisible: Searching for Dark Matter with ATLAS\n",
    "Summary: How do you find something that can't be seen? How does a detector find particles that don't interact? In this Jupyter notebook for A-level students we will search for dark matter with real ATLAS data, using statistical techniques in the python programming language to find out how the ATLAS particle detector can be used to find evidence for the existence of illusive dark matter particles."
   ]
  }
 ],
 "metadata": {
  "kernelspec": {
   "display_name": "Python 3",
   "language": "python",
   "name": "python3"
  },
  "language_info": {
   "codemirror_mode": {
    "name": "ipython",
    "version": 3
   },
   "file_extension": ".py",
   "mimetype": "text/x-python",
   "name": "python",
   "nbconvert_exporter": "python",
   "pygments_lexer": "ipython3",
   "version": "3.8.3"
  }
 },
 "nbformat": 4,
 "nbformat_minor": 4
}
