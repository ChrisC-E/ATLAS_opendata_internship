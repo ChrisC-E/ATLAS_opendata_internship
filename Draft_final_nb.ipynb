{
 "cells": [
  {
   "cell_type": "markdown",
   "metadata": {},
   "source": [
    "# Looking for the invisible: Searching for Dark Matter with ATLAS\n",
    "\n",
    "## The ATLAS experiment\n",
    "- Quick overview of the ATLAS experiment at CERN\n",
    "- links to other resources\n",
    "\n",
    "## Dark Matter\n",
    "- Describe the theory of DM and describe its origin\n",
    "\n",
    "## Dark Matter at ATLAS\n",
    "- Describe how dark matter is created at CERN\n",
    "- how is it detected\n",
    "\n",
    "## What We Are Looking For\n",
    "- Describe the event that we are looking for\n",
    "- how is this detected at ATLAS (how is dark matter even detected?)\n",
    "\n",
    "## How Do We Find Dark Matter?\n",
    "- how is the data from the detector used to find DM\n",
    "    - explain use of data and signal+bg mc (what is mc?)\n",
    "    - explain how we aim to reduce to S/B ratio in the mc\n",
    "    - explain how data is then used to check for what we are searching for\n",
    "    \n",
    "### How to reduce S/B?\n",
    "- introduce what a cut is\n",
    "- why is a cut useful (link to histogram analyser)\n",
    "- what cuts will we use?\n",
    "    - list cuts"
   ]
  },
  {
   "cell_type": "code",
   "execution_count": null,
   "metadata": {},
   "outputs": [],
   "source": [
    "#Does the above make up a concise enough list of topics to go through to introduce students from no prior knowledge?"
   ]
  },
  {
   "cell_type": "code",
   "execution_count": null,
   "metadata": {},
   "outputs": [],
   "source": []
  }
 ],
 "metadata": {
  "kernelspec": {
   "display_name": "Python 3",
   "language": "python",
   "name": "python3"
  },
  "language_info": {
   "codemirror_mode": {
    "name": "ipython",
    "version": 3
   },
   "file_extension": ".py",
   "mimetype": "text/x-python",
   "name": "python",
   "nbconvert_exporter": "python",
   "pygments_lexer": "ipython3",
   "version": "3.8.3"
  }
 },
 "nbformat": 4,
 "nbformat_minor": 4
}
