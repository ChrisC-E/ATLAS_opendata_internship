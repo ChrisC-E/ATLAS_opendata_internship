{
 "cells": [
  {
   "cell_type": "markdown",
   "metadata": {},
   "source": [
    "# Using Data Analysis Techniques and Machine Learning to Search for Dark Matter (IN PROGRESS)"
   ]
  },
  {
   "cell_type": "markdown",
   "metadata": {},
   "source": [
    "## Introduction, etc. here"
   ]
  },
  {
   "cell_type": "code",
   "execution_count": 1,
   "metadata": {},
   "outputs": [],
   "source": [
    "import pandas as pd #So we can store data in DataFrames (an object type that makes for easier analysis)\n",
    "import numpy as np #used for calculations\n",
    "import uproot3 #allows us to accesss the data within the files we are using\n",
    "import matplotlib.pyplot as plt #used for plotting graphs\n",
    "\n",
    "\n",
    "from matplotlib.lines import Line2D #To put a dashed line in the legend (needed for this notebook?)\n",
    "from matplotlib.ticker import AutoMinorLocator,MaxNLocator # for minor ticks and forcing integer tick labels (needed?)"
   ]
  },
  {
   "cell_type": "code",
   "execution_count": 2,
   "metadata": {},
   "outputs": [],
   "source": [
    "data_path = 'C:\\\\Users\\\\Chris\\\\Desktop\\\\Internship\\\\Data\\\\mc_306109.dmV_Zll_MET40_DM1_MM800.exactly2lep.root'\n",
    "#notice this is in the .root format used for CERN data, so we need the uproot3 module to access it"
   ]
  },
  {
   "cell_type": "markdown",
   "metadata": {},
   "source": [
    "Data from: https://atlas-opendata.web.cern.ch/atlas-opendata/samples/2020/exactly2lep/MC/"
   ]
  },
  {
   "cell_type": "code",
   "execution_count": 3,
   "metadata": {},
   "outputs": [],
   "source": [
    "file_open = uproot3.open(data_path)[\"mini\"] #open data file (whats mini?)"
   ]
  },
  {
   "cell_type": "code",
   "execution_count": 4,
   "metadata": {},
   "outputs": [
    {
     "data": {
      "text/plain": [
       "5206"
      ]
     },
     "execution_count": 4,
     "metadata": {},
     "output_type": "execute_result"
    }
   ],
   "source": [
    "uproot3.numentries(data_path, \"mini\") #check the number of rows of data"
   ]
  },
  {
   "cell_type": "code",
   "execution_count": 5,
   "metadata": {
    "scrolled": true
   },
   "outputs": [
    {
     "name": "stdout",
     "output_type": "stream",
     "text": [
      "runNumber                  (no streamer)              asdtype('>i4')\n",
      "eventNumber                (no streamer)              asdtype('>i4')\n",
      "channelNumber              (no streamer)              asdtype('>i4')\n",
      "mcWeight                   (no streamer)              asdtype('>f4')\n",
      "scaleFactor_PILEUP         (no streamer)              asdtype('>f4')\n",
      "scaleFactor_ELE            (no streamer)              asdtype('>f4')\n",
      "scaleFactor_MUON           (no streamer)              asdtype('>f4')\n",
      "scaleFactor_PHOTON         (no streamer)              asdtype('>f4')\n",
      "scaleFactor_TAU            (no streamer)              asdtype('>f4')\n",
      "scaleFactor_BTAG           (no streamer)              asdtype('>f4')\n",
      "scaleFactor_LepTRIGGER     (no streamer)              asdtype('>f4')\n",
      "scaleFactor_PhotonTRIGGER  (no streamer)              asdtype('>f4')\n",
      "trigE                      (no streamer)              asdtype('bool')\n",
      "trigM                      (no streamer)              asdtype('bool')\n",
      "trigP                      (no streamer)              asdtype('bool')\n",
      "lep_n                      (no streamer)              asdtype('>u4')\n",
      "lep_truthMatched           TStreamerSTL               asjagged(asdtype('bool'), 10)\n",
      "lep_trigMatched            TStreamerSTL               asjagged(asdtype('bool'), 10)\n",
      "lep_pt                     TStreamerSTL               asjagged(asdtype('>f4'), 10)\n",
      "lep_eta                    TStreamerSTL               asjagged(asdtype('>f4'), 10)\n",
      "lep_phi                    TStreamerSTL               asjagged(asdtype('>f4'), 10)\n",
      "lep_E                      TStreamerSTL               asjagged(asdtype('>f4'), 10)\n",
      "lep_z0                     TStreamerSTL               asjagged(asdtype('>f4'), 10)\n",
      "lep_charge                 TStreamerSTL               asjagged(asdtype('>i4'), 10)\n",
      "lep_type                   TStreamerSTL               asjagged(asdtype('>u4'), 10)\n",
      "lep_isTightID              TStreamerSTL               asjagged(asdtype('bool'), 10)\n",
      "lep_ptcone30               TStreamerSTL               asjagged(asdtype('>f4'), 10)\n",
      "lep_etcone20               TStreamerSTL               asjagged(asdtype('>f4'), 10)\n",
      "lep_trackd0pvunbiased      TStreamerSTL               asjagged(asdtype('>f4'), 10)\n",
      "lep_tracksigd0pvunbiased   TStreamerSTL               asjagged(asdtype('>f4'), 10)\n",
      "met_et                     (no streamer)              asdtype('>f4')\n",
      "met_phi                    (no streamer)              asdtype('>f4')\n",
      "jet_n                      (no streamer)              asdtype('>u4')\n",
      "jet_pt                     TStreamerSTL               asjagged(asdtype('>f4'), 10)\n",
      "jet_eta                    TStreamerSTL               asjagged(asdtype('>f4'), 10)\n",
      "jet_phi                    TStreamerSTL               asjagged(asdtype('>f4'), 10)\n",
      "jet_E                      TStreamerSTL               asjagged(asdtype('>f4'), 10)\n",
      "jet_jvt                    TStreamerSTL               asjagged(asdtype('>f4'), 10)\n",
      "jet_trueflav               TStreamerSTL               asjagged(asdtype('>i4'), 10)\n",
      "jet_truthMatched           TStreamerSTL               asjagged(asdtype('bool'), 10)\n",
      "jet_MV2c10                 TStreamerSTL               asjagged(asdtype('>f4'), 10)\n",
      "photon_n                   (no streamer)              asdtype('>u4')\n",
      "photon_truthMatched        TStreamerSTL               asjagged(asdtype('bool'), 10)\n",
      "photon_trigMatched         TStreamerSTL               asjagged(asdtype('bool'), 10)\n",
      "photon_pt                  TStreamerSTL               asjagged(asdtype('>f4'), 10)\n",
      "photon_eta                 TStreamerSTL               asjagged(asdtype('>f4'), 10)\n",
      "photon_phi                 TStreamerSTL               asjagged(asdtype('>f4'), 10)\n",
      "photon_E                   TStreamerSTL               asjagged(asdtype('>f4'), 10)\n",
      "photon_isTightID           TStreamerSTL               asjagged(asdtype('bool'), 10)\n",
      "photon_ptcone30            TStreamerSTL               asjagged(asdtype('>f4'), 10)\n",
      "photon_etcone20            TStreamerSTL               asjagged(asdtype('>f4'), 10)\n",
      "photon_convType            TStreamerSTL               asjagged(asdtype('>i4'), 10)\n",
      "tau_n                      (no streamer)              asdtype('>u4')\n",
      "tau_pt                     TStreamerSTL               asjagged(asdtype('>f4'), 10)\n",
      "tau_eta                    TStreamerSTL               asjagged(asdtype('>f4'), 10)\n",
      "tau_phi                    TStreamerSTL               asjagged(asdtype('>f4'), 10)\n",
      "tau_E                      TStreamerSTL               asjagged(asdtype('>f4'), 10)\n",
      "tau_isTightID              TStreamerSTL               asjagged(asdtype('bool'), 10)\n",
      "tau_truthMatched           TStreamerSTL               asjagged(asdtype('bool'), 10)\n",
      "tau_trigMatched            TStreamerSTL               asjagged(asdtype('bool'), 10)\n",
      "tau_nTracks                TStreamerSTL               asjagged(asdtype('>i4'), 10)\n",
      "tau_BDTid                  TStreamerSTL               asjagged(asdtype('>f4'), 10)\n",
      "ditau_m                    (no streamer)              asdtype('>f4')\n",
      "lep_pt_syst                TStreamerSTL               asjagged(asdtype('>f4'), 10)\n",
      "met_et_syst                (no streamer)              asdtype('>f4')\n",
      "jet_pt_syst                TStreamerSTL               asjagged(asdtype('>f4'), 10)\n",
      "photon_pt_syst             TStreamerSTL               asjagged(asdtype('>f4'), 10)\n",
      "tau_pt_syst                TStreamerSTL               asjagged(asdtype('>f4'), 10)\n",
      "XSection                   (no streamer)              asdtype('>f4')\n",
      "SumWeights                 (no streamer)              asdtype('>f4')\n",
      "largeRjet_n                (no streamer)              asdtype('>u4')\n",
      "largeRjet_pt               TStreamerSTL               asjagged(asdtype('>f4'), 10)\n",
      "largeRjet_eta              TStreamerSTL               asjagged(asdtype('>f4'), 10)\n",
      "largeRjet_phi              TStreamerSTL               asjagged(asdtype('>f4'), 10)\n",
      "largeRjet_E                TStreamerSTL               asjagged(asdtype('>f4'), 10)\n",
      "largeRjet_m                TStreamerSTL               asjagged(asdtype('>f4'), 10)\n",
      "largeRjet_truthMatched     TStreamerSTL               asjagged(asdtype('>f4'), 10)\n",
      "largeRjet_D2               TStreamerSTL               asjagged(asdtype('>f4'), 10)\n",
      "largeRjet_tau32            TStreamerSTL               asjagged(asdtype('>f4'), 10)\n",
      "largeRjet_pt_syst          TStreamerSTL               asjagged(asdtype('>f4'), 10)\n",
      "tau_charge                 TStreamerSTL               asjagged(asdtype('>i4'), 10)\n"
     ]
    }
   ],
   "source": [
    "keys = file_open.keys()\n",
    "show = file_open.show()\n",
    "#these two are similar and show the labels of all the columns of data"
   ]
  },
  {
   "cell_type": "code",
   "execution_count": 6,
   "metadata": {},
   "outputs": [
    {
     "data": {
      "text/plain": [
       "5206"
      ]
     },
     "execution_count": 6,
     "metadata": {},
     "output_type": "execute_result"
    }
   ],
   "source": [
    "len(file_open.array(keys[69])) #the number of entries/rows in one of the arrays in the data"
   ]
  },
  {
   "cell_type": "code",
   "execution_count": 7,
   "metadata": {},
   "outputs": [
    {
     "data": {
      "text/plain": [
       "b'XSection'"
      ]
     },
     "execution_count": 7,
     "metadata": {},
     "output_type": "execute_result"
    }
   ],
   "source": [
    "keys[68] #gives the name of one of the arrays/columns in the data"
   ]
  },
  {
   "cell_type": "code",
   "execution_count": 8,
   "metadata": {},
   "outputs": [
    {
     "data": {
      "text/plain": [
       "array([0.005016, 0.005016, 0.005016, ..., 0.005016, 0.005016, 0.005016],\n",
       "      dtype=float32)"
      ]
     },
     "execution_count": 8,
     "metadata": {},
     "output_type": "execute_result"
    }
   ],
   "source": [
    "file_open.array(keys[68]) #viewing the data in one of the arrays/columns in the dataset"
   ]
  },
  {
   "cell_type": "code",
   "execution_count": 9,
   "metadata": {},
   "outputs": [],
   "source": [
    "data_dict = {} #dictionary to hold all the data that we will be looking at\n",
    "\n",
    "\n",
    "relevant_data = ['runNumber','eventNumber','channelNumber','mcWeight','lep_n','lep_truthMatched','lep_trigMatched',\n",
    "                'lep_pt','lep_eta','lep_phi','lep_E','lep_z0','lep_charge','lep_type','lep_isTightID','lep_ptcone30',\n",
    "                 'lep_etcone20','lep_trackd0pvunbiased','lep_tracksigd0pvunbiased','met_et','lep_pt_syst','XSection',\n",
    "                 'SumWeights']\n",
    "# these are the headings of the columns of data that we will be looking at\n",
    "relevant_data_locations = [0,1,2,3,15,16,17,18,19,20,21,22,23,24,25,26,27,28,29,30,63,68,69]\n",
    "\n",
    "\n",
    "#the below lines read the data that we are going to use into the dictionary above\n",
    "counter = 0\n",
    "for i in relevant_data_locations:\n",
    "    data_dict[relevant_data[counter]] = file_open.array(keys[i]) \n",
    "    #creates a new key in the dictionary using the entries in relevant_data, and adds the corresponding data values by opening\n",
    "    #the right array of data (using the column number given in relevant_data_locations)\n",
    "    counter+=1\n",
    "    \n",
    "\n",
    "#data_dict\n",
    "#uncomment above to view the dictionary"
   ]
  },
  {
   "cell_type": "code",
   "execution_count": 10,
   "metadata": {},
   "outputs": [
    {
     "data": {
      "text/html": [
       "<div>\n",
       "<style scoped>\n",
       "    .dataframe tbody tr th:only-of-type {\n",
       "        vertical-align: middle;\n",
       "    }\n",
       "\n",
       "    .dataframe tbody tr th {\n",
       "        vertical-align: top;\n",
       "    }\n",
       "\n",
       "    .dataframe thead th {\n",
       "        text-align: right;\n",
       "    }\n",
       "</style>\n",
       "<table border=\"1\" class=\"dataframe\">\n",
       "  <thead>\n",
       "    <tr style=\"text-align: right;\">\n",
       "      <th></th>\n",
       "      <th>runNumber</th>\n",
       "      <th>eventNumber</th>\n",
       "      <th>channelNumber</th>\n",
       "      <th>mcWeight</th>\n",
       "      <th>lep_n</th>\n",
       "      <th>lep_truthMatched</th>\n",
       "      <th>lep_trigMatched</th>\n",
       "      <th>lep_pt</th>\n",
       "      <th>lep_eta</th>\n",
       "      <th>lep_phi</th>\n",
       "      <th>...</th>\n",
       "      <th>lep_type</th>\n",
       "      <th>lep_isTightID</th>\n",
       "      <th>lep_ptcone30</th>\n",
       "      <th>lep_etcone20</th>\n",
       "      <th>lep_trackd0pvunbiased</th>\n",
       "      <th>lep_tracksigd0pvunbiased</th>\n",
       "      <th>met_et</th>\n",
       "      <th>lep_pt_syst</th>\n",
       "      <th>XSection</th>\n",
       "      <th>SumWeights</th>\n",
       "    </tr>\n",
       "  </thead>\n",
       "  <tbody>\n",
       "    <tr>\n",
       "      <th>0</th>\n",
       "      <td>284500</td>\n",
       "      <td>46</td>\n",
       "      <td>306109</td>\n",
       "      <td>1.0</td>\n",
       "      <td>2</td>\n",
       "      <td>[True, False]</td>\n",
       "      <td>[True, False]</td>\n",
       "      <td>[100990.07, 7426.121]</td>\n",
       "      <td>[-0.7682709, 0.72368354]</td>\n",
       "      <td>[-1.0182151, -2.1507058]</td>\n",
       "      <td>...</td>\n",
       "      <td>[11, 11]</td>\n",
       "      <td>[True, True]</td>\n",
       "      <td>[0.0, 0.0]</td>\n",
       "      <td>[1215.9817, -544.9584]</td>\n",
       "      <td>[-0.0099716205, 0.009749278]</td>\n",
       "      <td>[1.1405811, 0.6889102]</td>\n",
       "      <td>348277.750000</td>\n",
       "      <td>[668.81635, 66.78632]</td>\n",
       "      <td>0.005016</td>\n",
       "      <td>10000.0</td>\n",
       "    </tr>\n",
       "    <tr>\n",
       "      <th>1</th>\n",
       "      <td>284500</td>\n",
       "      <td>205</td>\n",
       "      <td>306109</td>\n",
       "      <td>1.0</td>\n",
       "      <td>2</td>\n",
       "      <td>[True, True]</td>\n",
       "      <td>[True, True]</td>\n",
       "      <td>[93777.734, 31697.932]</td>\n",
       "      <td>[-0.5999321, -0.89178747]</td>\n",
       "      <td>[0.17214498, -1.7731516]</td>\n",
       "      <td>...</td>\n",
       "      <td>[13, 13]</td>\n",
       "      <td>[True, True]</td>\n",
       "      <td>[0.0, 0.0]</td>\n",
       "      <td>[1523.3855, 1132.3503]</td>\n",
       "      <td>[-0.0024083678, -0.0005763579]</td>\n",
       "      <td>[0.32693756, 0.06280022]</td>\n",
       "      <td>104342.265625</td>\n",
       "      <td>[2037.9049, 107.43644]</td>\n",
       "      <td>0.005016</td>\n",
       "      <td>10000.0</td>\n",
       "    </tr>\n",
       "    <tr>\n",
       "      <th>2</th>\n",
       "      <td>284500</td>\n",
       "      <td>235</td>\n",
       "      <td>306109</td>\n",
       "      <td>1.0</td>\n",
       "      <td>2</td>\n",
       "      <td>[True, True]</td>\n",
       "      <td>[True, True]</td>\n",
       "      <td>[84696.75, 68743.09]</td>\n",
       "      <td>[1.1828485, 1.098033]</td>\n",
       "      <td>[0.37650913, -0.83802056]</td>\n",
       "      <td>...</td>\n",
       "      <td>[11, 11]</td>\n",
       "      <td>[True, True]</td>\n",
       "      <td>[0.0, 0.0]</td>\n",
       "      <td>[3794.2654, -442.27618]</td>\n",
       "      <td>[0.008800238, 0.0039059948]</td>\n",
       "      <td>[1.0115662, 0.46925277]</td>\n",
       "      <td>128276.781250</td>\n",
       "      <td>[428.07352, 308.5227]</td>\n",
       "      <td>0.005016</td>\n",
       "      <td>10000.0</td>\n",
       "    </tr>\n",
       "    <tr>\n",
       "      <th>3</th>\n",
       "      <td>284500</td>\n",
       "      <td>482</td>\n",
       "      <td>306109</td>\n",
       "      <td>1.0</td>\n",
       "      <td>2</td>\n",
       "      <td>[True, True]</td>\n",
       "      <td>[True, False]</td>\n",
       "      <td>[95645.26, 22749.984]</td>\n",
       "      <td>[0.03707598, -0.2220163]</td>\n",
       "      <td>[-0.08936702, 2.6688776]</td>\n",
       "      <td>...</td>\n",
       "      <td>[11, 11]</td>\n",
       "      <td>[True, True]</td>\n",
       "      <td>[0.0, 0.0]</td>\n",
       "      <td>[1735.391, -518.5956]</td>\n",
       "      <td>[-0.013859223, 0.019677153]</td>\n",
       "      <td>[1.790706, 1.7911686]</td>\n",
       "      <td>63393.468750</td>\n",
       "      <td>[1129.4507, 80.28829]</td>\n",
       "      <td>0.005016</td>\n",
       "      <td>10000.0</td>\n",
       "    </tr>\n",
       "    <tr>\n",
       "      <th>4</th>\n",
       "      <td>284500</td>\n",
       "      <td>630</td>\n",
       "      <td>306109</td>\n",
       "      <td>1.0</td>\n",
       "      <td>2</td>\n",
       "      <td>[True, True]</td>\n",
       "      <td>[True, False]</td>\n",
       "      <td>[128806.86, 15045.653]</td>\n",
       "      <td>[-0.34280708, -0.80403394]</td>\n",
       "      <td>[-2.7522888, -0.12069551]</td>\n",
       "      <td>...</td>\n",
       "      <td>[11, 11]</td>\n",
       "      <td>[True, True]</td>\n",
       "      <td>[0.0, 0.0]</td>\n",
       "      <td>[-272.75995, -339.5269]</td>\n",
       "      <td>[-0.020453207, 0.01955478]</td>\n",
       "      <td>[3.6392374, 1.2386608]</td>\n",
       "      <td>123417.039062</td>\n",
       "      <td>[497.85922, 170.0829]</td>\n",
       "      <td>0.005016</td>\n",
       "      <td>10000.0</td>\n",
       "    </tr>\n",
       "    <tr>\n",
       "      <th>...</th>\n",
       "      <td>...</td>\n",
       "      <td>...</td>\n",
       "      <td>...</td>\n",
       "      <td>...</td>\n",
       "      <td>...</td>\n",
       "      <td>...</td>\n",
       "      <td>...</td>\n",
       "      <td>...</td>\n",
       "      <td>...</td>\n",
       "      <td>...</td>\n",
       "      <td>...</td>\n",
       "      <td>...</td>\n",
       "      <td>...</td>\n",
       "      <td>...</td>\n",
       "      <td>...</td>\n",
       "      <td>...</td>\n",
       "      <td>...</td>\n",
       "      <td>...</td>\n",
       "      <td>...</td>\n",
       "      <td>...</td>\n",
       "      <td>...</td>\n",
       "    </tr>\n",
       "    <tr>\n",
       "      <th>5201</th>\n",
       "      <td>284500</td>\n",
       "      <td>9440</td>\n",
       "      <td>306109</td>\n",
       "      <td>1.0</td>\n",
       "      <td>2</td>\n",
       "      <td>[True, True]</td>\n",
       "      <td>[True, True]</td>\n",
       "      <td>[72181.87, 51158.71]</td>\n",
       "      <td>[0.5563412, -0.18103471]</td>\n",
       "      <td>[3.0907967, 1.6497777]</td>\n",
       "      <td>...</td>\n",
       "      <td>[13, 13]</td>\n",
       "      <td>[True, True]</td>\n",
       "      <td>[0.0, 0.0]</td>\n",
       "      <td>[-761.564, -761.564]</td>\n",
       "      <td>[0.011878228, -0.0021623962]</td>\n",
       "      <td>[1.959224, 0.33713147]</td>\n",
       "      <td>106641.679688</td>\n",
       "      <td>[706.1843, 566.79584]</td>\n",
       "      <td>0.005016</td>\n",
       "      <td>10000.0</td>\n",
       "    </tr>\n",
       "    <tr>\n",
       "      <th>5202</th>\n",
       "      <td>284500</td>\n",
       "      <td>9558</td>\n",
       "      <td>306109</td>\n",
       "      <td>1.0</td>\n",
       "      <td>2</td>\n",
       "      <td>[True, True]</td>\n",
       "      <td>[True, False]</td>\n",
       "      <td>[306378.8, 21968.338]</td>\n",
       "      <td>[0.6307145, 0.52217853]</td>\n",
       "      <td>[-2.6945016, -1.5103921]</td>\n",
       "      <td>...</td>\n",
       "      <td>[13, 13]</td>\n",
       "      <td>[True, True]</td>\n",
       "      <td>[0.0, 0.0]</td>\n",
       "      <td>[814.3611, -943.9758]</td>\n",
       "      <td>[-0.006906736, 0.007331518]</td>\n",
       "      <td>[1.3408303, 0.7073485]</td>\n",
       "      <td>347592.312500</td>\n",
       "      <td>[37542.293, 155.38966]</td>\n",
       "      <td>0.005016</td>\n",
       "      <td>10000.0</td>\n",
       "    </tr>\n",
       "    <tr>\n",
       "      <th>5203</th>\n",
       "      <td>284500</td>\n",
       "      <td>9697</td>\n",
       "      <td>306109</td>\n",
       "      <td>1.0</td>\n",
       "      <td>2</td>\n",
       "      <td>[True, True]</td>\n",
       "      <td>[True, True]</td>\n",
       "      <td>[70584.914, 54114.15]</td>\n",
       "      <td>[-1.3256004, -1.0071476]</td>\n",
       "      <td>[-1.9375601, 3.0470493]</td>\n",
       "      <td>...</td>\n",
       "      <td>[13, 13]</td>\n",
       "      <td>[True, True]</td>\n",
       "      <td>[0.0, 0.0]</td>\n",
       "      <td>[-389.3839, -726.9248]</td>\n",
       "      <td>[0.011187258, -0.024736652]</td>\n",
       "      <td>[1.4650736, 2.6470094]</td>\n",
       "      <td>110196.546875</td>\n",
       "      <td>[683.6778, 116.885124]</td>\n",
       "      <td>0.005016</td>\n",
       "      <td>10000.0</td>\n",
       "    </tr>\n",
       "    <tr>\n",
       "      <th>5204</th>\n",
       "      <td>284500</td>\n",
       "      <td>9922</td>\n",
       "      <td>306109</td>\n",
       "      <td>1.0</td>\n",
       "      <td>2</td>\n",
       "      <td>[True, True]</td>\n",
       "      <td>[True, True]</td>\n",
       "      <td>[102851.836, 31841.15]</td>\n",
       "      <td>[1.6040598, 1.010763]</td>\n",
       "      <td>[0.39593637, 2.0243583]</td>\n",
       "      <td>...</td>\n",
       "      <td>[11, 11]</td>\n",
       "      <td>[True, True]</td>\n",
       "      <td>[1450.1215, 0.0]</td>\n",
       "      <td>[1760.7639, -980.12756]</td>\n",
       "      <td>[0.014684265, 0.0007587629]</td>\n",
       "      <td>[1.0974138, 0.045595814]</td>\n",
       "      <td>97570.312500</td>\n",
       "      <td>[1874.4982, 65.11265]</td>\n",
       "      <td>0.005016</td>\n",
       "      <td>10000.0</td>\n",
       "    </tr>\n",
       "    <tr>\n",
       "      <th>5205</th>\n",
       "      <td>284500</td>\n",
       "      <td>9984</td>\n",
       "      <td>306109</td>\n",
       "      <td>1.0</td>\n",
       "      <td>2</td>\n",
       "      <td>[True, True]</td>\n",
       "      <td>[True, True]</td>\n",
       "      <td>[50489.36, 35715.906]</td>\n",
       "      <td>[-0.27985376, -0.9537062]</td>\n",
       "      <td>[-0.4263262, -3.0284505]</td>\n",
       "      <td>...</td>\n",
       "      <td>[11, 11]</td>\n",
       "      <td>[True, True]</td>\n",
       "      <td>[0.0, 2229.393]</td>\n",
       "      <td>[-1100.5898, -428.48474]</td>\n",
       "      <td>[-0.019498125, 0.0015887101]</td>\n",
       "      <td>[1.202219, 0.2085457]</td>\n",
       "      <td>29573.761719</td>\n",
       "      <td>[252.07355, 244.85556]</td>\n",
       "      <td>0.005016</td>\n",
       "      <td>10000.0</td>\n",
       "    </tr>\n",
       "  </tbody>\n",
       "</table>\n",
       "<p>5206 rows × 23 columns</p>\n",
       "</div>"
      ],
      "text/plain": [
       "      runNumber  eventNumber  channelNumber  mcWeight  lep_n lep_truthMatched  \\\n",
       "0        284500           46         306109       1.0      2    [True, False]   \n",
       "1        284500          205         306109       1.0      2     [True, True]   \n",
       "2        284500          235         306109       1.0      2     [True, True]   \n",
       "3        284500          482         306109       1.0      2     [True, True]   \n",
       "4        284500          630         306109       1.0      2     [True, True]   \n",
       "...         ...          ...            ...       ...    ...              ...   \n",
       "5201     284500         9440         306109       1.0      2     [True, True]   \n",
       "5202     284500         9558         306109       1.0      2     [True, True]   \n",
       "5203     284500         9697         306109       1.0      2     [True, True]   \n",
       "5204     284500         9922         306109       1.0      2     [True, True]   \n",
       "5205     284500         9984         306109       1.0      2     [True, True]   \n",
       "\n",
       "     lep_trigMatched                  lep_pt                     lep_eta  \\\n",
       "0      [True, False]   [100990.07, 7426.121]    [-0.7682709, 0.72368354]   \n",
       "1       [True, True]  [93777.734, 31697.932]   [-0.5999321, -0.89178747]   \n",
       "2       [True, True]    [84696.75, 68743.09]       [1.1828485, 1.098033]   \n",
       "3      [True, False]   [95645.26, 22749.984]    [0.03707598, -0.2220163]   \n",
       "4      [True, False]  [128806.86, 15045.653]  [-0.34280708, -0.80403394]   \n",
       "...              ...                     ...                         ...   \n",
       "5201    [True, True]    [72181.87, 51158.71]    [0.5563412, -0.18103471]   \n",
       "5202   [True, False]   [306378.8, 21968.338]     [0.6307145, 0.52217853]   \n",
       "5203    [True, True]   [70584.914, 54114.15]    [-1.3256004, -1.0071476]   \n",
       "5204    [True, True]  [102851.836, 31841.15]       [1.6040598, 1.010763]   \n",
       "5205    [True, True]   [50489.36, 35715.906]   [-0.27985376, -0.9537062]   \n",
       "\n",
       "                        lep_phi  ...  lep_type lep_isTightID  \\\n",
       "0      [-1.0182151, -2.1507058]  ...  [11, 11]  [True, True]   \n",
       "1      [0.17214498, -1.7731516]  ...  [13, 13]  [True, True]   \n",
       "2     [0.37650913, -0.83802056]  ...  [11, 11]  [True, True]   \n",
       "3      [-0.08936702, 2.6688776]  ...  [11, 11]  [True, True]   \n",
       "4     [-2.7522888, -0.12069551]  ...  [11, 11]  [True, True]   \n",
       "...                         ...  ...       ...           ...   \n",
       "5201     [3.0907967, 1.6497777]  ...  [13, 13]  [True, True]   \n",
       "5202   [-2.6945016, -1.5103921]  ...  [13, 13]  [True, True]   \n",
       "5203    [-1.9375601, 3.0470493]  ...  [13, 13]  [True, True]   \n",
       "5204    [0.39593637, 2.0243583]  ...  [11, 11]  [True, True]   \n",
       "5205   [-0.4263262, -3.0284505]  ...  [11, 11]  [True, True]   \n",
       "\n",
       "          lep_ptcone30              lep_etcone20  \\\n",
       "0           [0.0, 0.0]    [1215.9817, -544.9584]   \n",
       "1           [0.0, 0.0]    [1523.3855, 1132.3503]   \n",
       "2           [0.0, 0.0]   [3794.2654, -442.27618]   \n",
       "3           [0.0, 0.0]     [1735.391, -518.5956]   \n",
       "4           [0.0, 0.0]   [-272.75995, -339.5269]   \n",
       "...                ...                       ...   \n",
       "5201        [0.0, 0.0]      [-761.564, -761.564]   \n",
       "5202        [0.0, 0.0]     [814.3611, -943.9758]   \n",
       "5203        [0.0, 0.0]    [-389.3839, -726.9248]   \n",
       "5204  [1450.1215, 0.0]   [1760.7639, -980.12756]   \n",
       "5205   [0.0, 2229.393]  [-1100.5898, -428.48474]   \n",
       "\n",
       "               lep_trackd0pvunbiased  lep_tracksigd0pvunbiased         met_et  \\\n",
       "0       [-0.0099716205, 0.009749278]    [1.1405811, 0.6889102]  348277.750000   \n",
       "1     [-0.0024083678, -0.0005763579]  [0.32693756, 0.06280022]  104342.265625   \n",
       "2        [0.008800238, 0.0039059948]   [1.0115662, 0.46925277]  128276.781250   \n",
       "3        [-0.013859223, 0.019677153]     [1.790706, 1.7911686]   63393.468750   \n",
       "4         [-0.020453207, 0.01955478]    [3.6392374, 1.2386608]  123417.039062   \n",
       "...                              ...                       ...            ...   \n",
       "5201    [0.011878228, -0.0021623962]    [1.959224, 0.33713147]  106641.679688   \n",
       "5202     [-0.006906736, 0.007331518]    [1.3408303, 0.7073485]  347592.312500   \n",
       "5203     [0.011187258, -0.024736652]    [1.4650736, 2.6470094]  110196.546875   \n",
       "5204     [0.014684265, 0.0007587629]  [1.0974138, 0.045595814]   97570.312500   \n",
       "5205    [-0.019498125, 0.0015887101]     [1.202219, 0.2085457]   29573.761719   \n",
       "\n",
       "                 lep_pt_syst  XSection  SumWeights  \n",
       "0      [668.81635, 66.78632]  0.005016     10000.0  \n",
       "1     [2037.9049, 107.43644]  0.005016     10000.0  \n",
       "2      [428.07352, 308.5227]  0.005016     10000.0  \n",
       "3      [1129.4507, 80.28829]  0.005016     10000.0  \n",
       "4      [497.85922, 170.0829]  0.005016     10000.0  \n",
       "...                      ...       ...         ...  \n",
       "5201   [706.1843, 566.79584]  0.005016     10000.0  \n",
       "5202  [37542.293, 155.38966]  0.005016     10000.0  \n",
       "5203  [683.6778, 116.885124]  0.005016     10000.0  \n",
       "5204   [1874.4982, 65.11265]  0.005016     10000.0  \n",
       "5205  [252.07355, 244.85556]  0.005016     10000.0  \n",
       "\n",
       "[5206 rows x 23 columns]"
      ]
     },
     "execution_count": 10,
     "metadata": {},
     "output_type": "execute_result"
    }
   ],
   "source": [
    "raw_data_df = pd.DataFrame(data_dict) #makes a DataFrame from the constructed dictionary\n",
    "raw_data_df #view the dataframe"
   ]
  },
  {
   "cell_type": "code",
   "execution_count": 11,
   "metadata": {},
   "outputs": [
    {
     "data": {
      "text/plain": [
       "0        [100990.07, 7426.121]\n",
       "1       [93777.734, 31697.932]\n",
       "2         [84696.75, 68743.09]\n",
       "3        [95645.26, 22749.984]\n",
       "4       [128806.86, 15045.653]\n",
       "                 ...          \n",
       "5201      [72181.87, 51158.71]\n",
       "5202     [306378.8, 21968.338]\n",
       "5203     [70584.914, 54114.15]\n",
       "5204    [102851.836, 31841.15]\n",
       "5205     [50489.36, 35715.906]\n",
       "Name: lep_pt, Length: 5206, dtype: object"
      ]
     },
     "execution_count": 11,
     "metadata": {},
     "output_type": "execute_result"
    }
   ],
   "source": [
    "raw_data_df['lep_pt'] #view one column of the dataframe"
   ]
  },
  {
   "cell_type": "code",
   "execution_count": 12,
   "metadata": {},
   "outputs": [
    {
     "data": {
      "text/plain": [
       "23"
      ]
     },
     "execution_count": 12,
     "metadata": {},
     "output_type": "execute_result"
    }
   ],
   "source": [
    "len(relevant_data)"
   ]
  },
  {
   "cell_type": "markdown",
   "metadata": {},
   "source": [
    "In the dataframe we see many columns that appear to only one unique value, these will not need to be histogrammed.\n",
    "\n",
    "First we will check the number of unique values in each column of the Dataframe"
   ]
  },
  {
   "cell_type": "code",
   "execution_count": 13,
   "metadata": {},
   "outputs": [
    {
     "data": {
      "text/plain": [
       "{1, 2, 3, 4, 5}"
      ]
     },
     "execution_count": 13,
     "metadata": {},
     "output_type": "execute_result"
    }
   ],
   "source": [
    "checking = [1,1,1,2,3,3,3,3,3,3,3,3,3,4,5,5]\n",
    "set(checking)"
   ]
  },
  {
   "cell_type": "code",
   "execution_count": 39,
   "metadata": {
    "scrolled": true
   },
   "outputs": [
    {
     "name": "stdout",
     "output_type": "stream",
     "text": [
      "LIST HERE\n",
      "LIST HERE\n",
      "LIST HERE\n",
      "LIST HERE\n",
      "LIST HERE\n",
      "LIST HERE\n",
      "LIST HERE\n",
      "LIST HERE\n",
      "LIST HERE\n",
      "LIST HERE\n",
      "LIST HERE\n",
      "LIST HERE\n",
      "LIST HERE\n",
      "LIST HERE\n",
      "LIST HERE\n"
     ]
    }
   ],
   "source": [
    "for i in raw_data_df:\n",
    "    array_comparison=[] #list to hold bool values comparing arrays to check wheteher they should be histogrammed\n",
    "    array_similarity =[]\n",
    "    if type(raw_data_df[i][0])==np.ndarray:\n",
    "        print('LIST HERE')\n",
    "        for j in raw_data_df[i]:\n",
    "            if (raw_data_df[i][0]==raw_data_df['lep_truthMatched'][1]).all():\n",
    "            \n",
    "        \n",
    "    #print(i, len(set(raw_data_df[i])))\n",
    "    #print(i,raw_data_df[i])\n",
    "    "
   ]
  },
  {
   "cell_type": "code",
   "execution_count": 52,
   "metadata": {},
   "outputs": [
    {
     "name": "stdout",
     "output_type": "stream",
     "text": [
      "same\n",
      "same\n",
      "same\n",
      "same\n",
      "same\n",
      "same\n",
      "same\n",
      "same\n",
      "same\n",
      "same\n",
      "same\n",
      "same\n",
      "same\n",
      "same\n",
      "same\n",
      "same\n",
      "same\n",
      "same\n",
      "same\n",
      "same\n",
      "same\n",
      "same\n",
      "same\n",
      "same\n"
     ]
    }
   ],
   "source": [
    "#type()\n",
    "for i in range(len(raw_data_df['lep_truthMatched'])):\n",
    "    if (raw_data_df['lep_truthMatched'][0]==raw_data_df['lep_truthMatched'][i]).all():\n",
    "        print('same')\n",
    "#else:\n",
    "#    print('diff')"
   ]
  },
  {
   "cell_type": "code",
   "execution_count": 48,
   "metadata": {},
   "outputs": [
    {
     "data": {
      "text/plain": [
       "array([ True,  True])"
      ]
     },
     "execution_count": 48,
     "metadata": {},
     "output_type": "execute_result"
    }
   ],
   "source": [
    "raw_data_df['lep_truthMatched'][2]==raw_data_df['lep_truthMatched'][1].all()"
   ]
  },
  {
   "cell_type": "code",
   "execution_count": null,
   "metadata": {},
   "outputs": [],
   "source": []
  }
 ],
 "metadata": {
  "kernelspec": {
   "display_name": "Python 3",
   "language": "python",
   "name": "python3"
  },
  "language_info": {
   "codemirror_mode": {
    "name": "ipython",
    "version": 3
   },
   "file_extension": ".py",
   "mimetype": "text/x-python",
   "name": "python",
   "nbconvert_exporter": "python",
   "pygments_lexer": "ipython3",
   "version": "3.8.3"
  }
 },
 "nbformat": 4,
 "nbformat_minor": 4
}
